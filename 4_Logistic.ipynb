{
  "nbformat": 4,
  "nbformat_minor": 0,
  "metadata": {
    "colab": {
      "provenance": []
    },
    "kernelspec": {
      "name": "python3",
      "display_name": "Python 3"
    },
    "language_info": {
      "name": "python"
    }
  },
  "cells": [
    {
      "cell_type": "code",
      "execution_count": 1,
      "metadata": {
        "id": "EyDPGQ47W9ie"
      },
      "outputs": [],
      "source": [
        "import torch\n",
        "import torch.nn as nn\n",
        "import numpy as np\n",
        "from sklearn import datasets\n",
        "from sklearn.preprocessing import StandardScaler\n",
        "from sklearn.model_selection import train_test_split"
      ]
    },
    {
      "cell_type": "code",
      "source": [
        "bc = datasets.load_breast_cancer()"
      ],
      "metadata": {
        "id": "dKWxL8iiXDdT"
      },
      "execution_count": 2,
      "outputs": []
    },
    {
      "cell_type": "code",
      "source": [
        "X,y  = bc.data,bc.target"
      ],
      "metadata": {
        "id": "oghAV1Q-XHnf"
      },
      "execution_count": 3,
      "outputs": []
    },
    {
      "cell_type": "code",
      "source": [
        "n_sample,n_features = X.shape"
      ],
      "metadata": {
        "id": "pHXjzinFXS7C"
      },
      "execution_count": 4,
      "outputs": []
    },
    {
      "cell_type": "code",
      "source": [
        "print(n_sample,n_features)"
      ],
      "metadata": {
        "colab": {
          "base_uri": "https://localhost:8080/"
        },
        "id": "XLiE8sqBXVMr",
        "outputId": "48da6032-6e93-4db0-ee08-c81362238c61"
      },
      "execution_count": 5,
      "outputs": [
        {
          "output_type": "stream",
          "name": "stdout",
          "text": [
            "569 30\n"
          ]
        }
      ]
    },
    {
      "cell_type": "code",
      "source": [
        "X_train,X_test,y_train,y_test = train_test_split(X,y,test_size=0.2,random_state=1234)\n",
        "\n",
        "sc = StandardScaler()\n",
        "X_train = sc.fit_transform(X_train)\n",
        "X_test = sc.transform(X_test)\n",
        "\n",
        "X_train = torch.from_numpy(X_train.astype(np.float32))\n",
        "X_test = torch.from_numpy(X_test.astype(np.float32))\n",
        "y_train = torch.from_numpy(y_train.astype(np.float32))\n",
        "y_test = torch.from_numpy(y_test.astype(np.float32))\n",
        "\n",
        "y_train = y_train.view(y_train.shape[0],1)\n",
        "y_test = y_test.view(y_test.shape[0],1)"
      ],
      "metadata": {
        "id": "lpGhq3o9XX9w"
      },
      "execution_count": 6,
      "outputs": []
    },
    {
      "cell_type": "code",
      "source": [
        "y_train.shape"
      ],
      "metadata": {
        "colab": {
          "base_uri": "https://localhost:8080/"
        },
        "id": "FmIqK9h0Xi_o",
        "outputId": "54405027-403f-487d-eabd-870823e440b8"
      },
      "execution_count": 7,
      "outputs": [
        {
          "output_type": "execute_result",
          "data": {
            "text/plain": [
              "torch.Size([455, 1])"
            ]
          },
          "metadata": {},
          "execution_count": 7
        }
      ]
    },
    {
      "cell_type": "code",
      "source": [
        "# model (f = wx+b,then sigmoid at end)\n",
        "class LogisticRegression(nn.Module):\n",
        "    def __init__(self,n_input_features):\n",
        "        super(LogisticRegression,self).__init__()\n",
        "        self.linear = nn.Linear(n_input_features,1)\n",
        "    def forward(self,x):\n",
        "        y_predicted = torch.sigmoid(self.linear(x))\n",
        "        return y_predicted"
      ],
      "metadata": {
        "id": "cIETc-A9XlPf"
      },
      "execution_count": 8,
      "outputs": []
    },
    {
      "cell_type": "code",
      "source": [
        "model = LogisticRegression(n_features)"
      ],
      "metadata": {
        "id": "HZKMW8o_XuZT"
      },
      "execution_count": 9,
      "outputs": []
    },
    {
      "cell_type": "code",
      "source": [
        "#loss\n",
        "learning_rate = 0.01\n",
        "criterion = nn.BCELoss()\n",
        "optimizer = torch.optim.SGD(model.parameters(),lr=learning_rate)"
      ],
      "metadata": {
        "id": "OUS6yu_uXvMJ"
      },
      "execution_count": 10,
      "outputs": []
    },
    {
      "cell_type": "code",
      "source": [
        "#training\n",
        "num_epoch = 100\n",
        "for epoch in range(num_epoch):\n",
        "    y_predicted = model(X_train)\n",
        "    loss = criterion(y_predicted,y_train)\n",
        "    #back pass\n",
        "    loss.backward()\n",
        "    # update\n",
        "    optimizer.step()\n",
        "    optimizer.zero_grad()\n",
        "    if (epoch+1) % 1 == 0:\n",
        "        print(f'epoch:{epoch+1},loss={loss.item():.4f}')"
      ],
      "metadata": {
        "colab": {
          "base_uri": "https://localhost:8080/"
        },
        "id": "3Kk23i-5X0X0",
        "outputId": "aef323f4-de48-41cb-a517-fab05991b1d3"
      },
      "execution_count": 11,
      "outputs": [
        {
          "output_type": "stream",
          "name": "stdout",
          "text": [
            "epoch:1,loss=0.9554\n",
            "epoch:2,loss=0.9230\n",
            "epoch:3,loss=0.8923\n",
            "epoch:4,loss=0.8633\n",
            "epoch:5,loss=0.8358\n",
            "epoch:6,loss=0.8099\n",
            "epoch:7,loss=0.7854\n",
            "epoch:8,loss=0.7624\n",
            "epoch:9,loss=0.7407\n",
            "epoch:10,loss=0.7203\n",
            "epoch:11,loss=0.7011\n",
            "epoch:12,loss=0.6830\n",
            "epoch:13,loss=0.6660\n",
            "epoch:14,loss=0.6499\n",
            "epoch:15,loss=0.6348\n",
            "epoch:16,loss=0.6205\n",
            "epoch:17,loss=0.6070\n",
            "epoch:18,loss=0.5942\n",
            "epoch:19,loss=0.5821\n",
            "epoch:20,loss=0.5707\n",
            "epoch:21,loss=0.5598\n",
            "epoch:22,loss=0.5495\n",
            "epoch:23,loss=0.5396\n",
            "epoch:24,loss=0.5303\n",
            "epoch:25,loss=0.5214\n",
            "epoch:26,loss=0.5128\n",
            "epoch:27,loss=0.5047\n",
            "epoch:28,loss=0.4969\n",
            "epoch:29,loss=0.4894\n",
            "epoch:30,loss=0.4823\n",
            "epoch:31,loss=0.4754\n",
            "epoch:32,loss=0.4688\n",
            "epoch:33,loss=0.4625\n",
            "epoch:34,loss=0.4563\n",
            "epoch:35,loss=0.4505\n",
            "epoch:36,loss=0.4448\n",
            "epoch:37,loss=0.4393\n",
            "epoch:38,loss=0.4340\n",
            "epoch:39,loss=0.4289\n",
            "epoch:40,loss=0.4240\n",
            "epoch:41,loss=0.4192\n",
            "epoch:42,loss=0.4146\n",
            "epoch:43,loss=0.4101\n",
            "epoch:44,loss=0.4057\n",
            "epoch:45,loss=0.4015\n",
            "epoch:46,loss=0.3974\n",
            "epoch:47,loss=0.3935\n",
            "epoch:48,loss=0.3896\n",
            "epoch:49,loss=0.3858\n",
            "epoch:50,loss=0.3822\n",
            "epoch:51,loss=0.3786\n",
            "epoch:52,loss=0.3752\n",
            "epoch:53,loss=0.3718\n",
            "epoch:54,loss=0.3685\n",
            "epoch:55,loss=0.3653\n",
            "epoch:56,loss=0.3622\n",
            "epoch:57,loss=0.3592\n",
            "epoch:58,loss=0.3562\n",
            "epoch:59,loss=0.3533\n",
            "epoch:60,loss=0.3504\n",
            "epoch:61,loss=0.3477\n",
            "epoch:62,loss=0.3450\n",
            "epoch:63,loss=0.3423\n",
            "epoch:64,loss=0.3397\n",
            "epoch:65,loss=0.3372\n",
            "epoch:66,loss=0.3347\n",
            "epoch:67,loss=0.3323\n",
            "epoch:68,loss=0.3299\n",
            "epoch:69,loss=0.3276\n",
            "epoch:70,loss=0.3253\n",
            "epoch:71,loss=0.3231\n",
            "epoch:72,loss=0.3209\n",
            "epoch:73,loss=0.3187\n",
            "epoch:74,loss=0.3166\n",
            "epoch:75,loss=0.3145\n",
            "epoch:76,loss=0.3125\n",
            "epoch:77,loss=0.3105\n",
            "epoch:78,loss=0.3085\n",
            "epoch:79,loss=0.3066\n",
            "epoch:80,loss=0.3047\n",
            "epoch:81,loss=0.3029\n",
            "epoch:82,loss=0.3011\n",
            "epoch:83,loss=0.2993\n",
            "epoch:84,loss=0.2975\n",
            "epoch:85,loss=0.2958\n",
            "epoch:86,loss=0.2941\n",
            "epoch:87,loss=0.2924\n",
            "epoch:88,loss=0.2907\n",
            "epoch:89,loss=0.2891\n",
            "epoch:90,loss=0.2875\n",
            "epoch:91,loss=0.2860\n",
            "epoch:92,loss=0.2844\n",
            "epoch:93,loss=0.2829\n",
            "epoch:94,loss=0.2814\n",
            "epoch:95,loss=0.2799\n",
            "epoch:96,loss=0.2785\n",
            "epoch:97,loss=0.2770\n",
            "epoch:98,loss=0.2756\n",
            "epoch:99,loss=0.2742\n",
            "epoch:100,loss=0.2729\n"
          ]
        }
      ]
    },
    {
      "cell_type": "code",
      "source": [
        "#testing\n",
        "\n",
        "with torch.no_grad():\n",
        "    y_predicted = model(X_test)\n",
        "    y_predicted_cls = y_predicted.round()\n",
        "    acc = y_predicted_cls.eq(y_test).sum()/float(y_test.shape[0])\n",
        "\n",
        "print(f'accuracy: = {acc:.4f}')"
      ],
      "metadata": {
        "colab": {
          "base_uri": "https://localhost:8080/"
        },
        "id": "kOE2MYNfX3iT",
        "outputId": "eca8a5db-e6c9-4459-9446-e37f2950675a"
      },
      "execution_count": 12,
      "outputs": [
        {
          "output_type": "stream",
          "name": "stdout",
          "text": [
            "accuracy: = 0.9298\n"
          ]
        }
      ]
    },
    {
      "cell_type": "code",
      "source": [],
      "metadata": {
        "id": "XZRA8EFAX9_4"
      },
      "execution_count": null,
      "outputs": []
    }
  ]
}